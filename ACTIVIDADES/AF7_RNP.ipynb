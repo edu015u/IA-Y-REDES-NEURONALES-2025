{
  "nbformat": 4,
  "nbformat_minor": 0,
  "metadata": {
    "colab": {
      "provenance": [],
      "authorship_tag": "ABX9TyMzzcHVl2Eb4xJh58EuP0te",
      "include_colab_link": true
    },
    "kernelspec": {
      "name": "python3",
      "display_name": "Python 3"
    },
    "language_info": {
      "name": "python"
    }
  },
  "cells": [
    {
      "cell_type": "markdown",
      "metadata": {
        "id": "view-in-github",
        "colab_type": "text"
      },
      "source": [
        "<a href=\"https://colab.research.google.com/github/edu015u/IA-Y-REDES-NEURONALES-2025/blob/main/ACTIVIDADES/AF7_RNP.ipynb\" target=\"_parent\"><img src=\"https://colab.research.google.com/assets/colab-badge.svg\" alt=\"Open In Colab\"/></a>"
      ]
    },
    {
      "cell_type": "markdown",
      "source": [
        "# **AF7:Redes Neuronales Artificiales **\n",
        "Integrantes:\n",
        "\n",
        "Blas Eduardo Escobar Rodriguez 1903990 N5\n",
        "\n",
        "Gael Guevara Puente 2049066 N5\n",
        "\n",
        "Ana Camila Parra Aguilar 2052187 N5\n",
        "\n",
        "Christopher Daniel Candelario López 2001039 N5\n",
        "\n",
        "Jonathan Gonzalez Zuñiga 2108162 N5\n"
      ],
      "metadata": {
        "id": "ycXFslvWvMuT"
      }
    },
    {
      "cell_type": "markdown",
      "source": [
        "**Explicación de la actividad **\n",
        "El objetivo del notebook es entrenar a un modelo de Red Neuronal Prealimentada tipo feedforward.\n",
        "\n",
        "Para lograr esta actividad, se usará el conjunto de datos \"Keras\".\n",
        "\n",
        "Se llevará a cabo los siguientes pasos:\n",
        "\n",
        "Carga de datos y librerias: importar el datasheet y sus características, ademas de importar las librerias necesarias.\n",
        "\n",
        "Preprocesamiento:aqui se prepara la información para que el modela pueda procesarla, se normalizan los valores de las imagenes, se convierte la forma de imagenes en vectores y se hace uso de la funcion softmax.\n",
        "\n",
        "Diseño de la red neuronal: se hace el número de capas ocultas, el número de neuronas por capa.\n",
        "\n",
        "Entrenamiento: entrenamos a la red neuronal con los datos del entrenamiento, se ajusta para reducir el error de predicción.\n",
        "\n",
        "Evaluación del modelo: se evalúa el desempeño del modelo con el conjunto de datos de prueba.\n",
        "\n",
        "Predicciones: se eligen muestras del conjunto de datos de prueba para realizar predicciones."
      ],
      "metadata": {
        "id": "3PpOyXI1vQ5N"
      }
    },
    {
      "cell_type": "markdown",
      "source": [
        "1. Cargar librerias"
      ],
      "metadata": {
        "id": "vfIE9K_Jt5pK"
      }
    },
    {
      "cell_type": "code",
      "source": [
        "#Importamos las librerías\n",
        "import tensorflow as tf\n",
        "from tensorflow import keras\n",
        "import matplotlib.pyplot as plt\n",
        "import numpy as np\n",
        "\n",
        "print(\"TensorFlow versión:\", tf.__version__)"
      ],
      "metadata": {
        "colab": {
          "base_uri": "https://localhost:8080/"
        },
        "id": "0NzNRS43K0yY",
        "outputId": "562e94d9-9a68-43af-ed20-bdadf0a600d5"
      },
      "execution_count": 1,
      "outputs": [
        {
          "output_type": "stream",
          "name": "stdout",
          "text": [
            "TensorFlow versión: 2.19.0\n"
          ]
        }
      ]
    },
    {
      "cell_type": "markdown",
      "source": [
        "2. Carga de datos"
      ],
      "metadata": {
        "id": "zCSuRH0BLTFs"
      }
    },
    {
      "cell_type": "code",
      "source": [
        "# Carga  del dataset de dígitos\n",
        "(x_train, y_train), (x_test, y_test) = keras.datasets.mnist.load_data()"
      ],
      "metadata": {
        "id": "DC9iNpoELUs7",
        "colab": {
          "base_uri": "https://localhost:8080/"
        },
        "outputId": "e7372bb8-504e-4235-bcef-6eec91c851b4"
      },
      "execution_count": 2,
      "outputs": [
        {
          "output_type": "stream",
          "name": "stdout",
          "text": [
            "Downloading data from https://storage.googleapis.com/tensorflow/tf-keras-datasets/mnist.npz\n",
            "\u001b[1m11490434/11490434\u001b[0m \u001b[32m━━━━━━━━━━━━━━━━━━━━\u001b[0m\u001b[37m\u001b[0m \u001b[1m0s\u001b[0m 0us/step\n"
          ]
        }
      ]
    },
    {
      "cell_type": "markdown",
      "source": [
        "3. Exploramos los datos"
      ],
      "metadata": {
        "id": "r5J2OaVqLmZZ"
      }
    },
    {
      "cell_type": "code",
      "source": [
        "print(f\"Imágenes de entrenamiento: {x_train.shape}\")\n",
        "print(f\"Imágenes de prueba: {x_test.shape}\")"
      ],
      "metadata": {
        "colab": {
          "base_uri": "https://localhost:8080/"
        },
        "id": "QU1h-P-gLoZx",
        "outputId": "de3e01ca-72e5-4d8a-9fc1-ac7815a827a0"
      },
      "execution_count": 3,
      "outputs": [
        {
          "output_type": "stream",
          "name": "stdout",
          "text": [
            "Imágenes de entrenamiento: (60000, 28, 28)\n",
            "Imágenes de prueba: (10000, 28, 28)\n"
          ]
        }
      ]
    },
    {
      "cell_type": "markdown",
      "source": [
        "4. Preprocesamiento de datos"
      ],
      "metadata": {
        "id": "v0jYfbBFLwHO"
      }
    },
    {
      "cell_type": "code",
      "source": [
        "#Observamos un ejemplo del conjunto de datos\n",
        "plt.figure()\n",
        "plt.imshow(x_train[5], cmap=\"gray\")\n",
        "plt.title(f\"Etiqueta correspondiente: {y_train[5]}\")\n",
        "plt.axis(\"off\")\n",
        "plt.show()"
      ],
      "metadata": {
        "colab": {
          "base_uri": "https://localhost:8080/",
          "height": 428
        },
        "id": "49S-0o-1L7LI",
        "outputId": "be7dea1c-ba83-4551-999d-67c41952deab"
      },
      "execution_count": 4,
      "outputs": [
        {
          "output_type": "display_data",
          "data": {
            "text/plain": [
              "<Figure size 640x480 with 1 Axes>"
            ],
            "image/png": "[encoded data removed]"
          },
          "metadata": {}
        }
      ]
    },
    {
      "cell_type": "code",
      "source": [
        "#Hacemos una cuadrícula con varias imágenes\n",
        "plt.figure(figsize=(9, 9))\n",
        "for i in range(25):\n",
        "    plt.subplot(5, 5, i + 1)\n",
        "    plt.imshow(x_train[i], cmap=\"gray\")\n",
        "    plt.axis(\"off\")\n",
        "    plt.title(str(y_train[i]), fontsize=8)\n",
        "plt.tight_layout()\n",
        "plt.show()"
      ],
      "metadata": {
        "colab": {
          "base_uri": "https://localhost:8080/",
          "height": 907
        },
        "id": "n_CF4521MPhG",
        "outputId": "9a88932e-4df9-4e4c-ea04-1279ca8048da"
      },
      "execution_count": 5,
      "outputs": [
        {
          "output_type": "display_data",
          "data": {
            "text/plain": [
              "<Figure size 900x900 with 25 Axes>"
            ],
            "image/png": "[encoded data removed]"
          },
          "metadata": {}
        }
      ]
    },
    {
      "cell_type": "code",
      "source": [
        "#Normalización pixeles\n",
        "x_train = x_train.astype(\"float32\") / 255\n",
        "x_test = x_test.astype(\"float32\") / 255"
      ],
      "metadata": {
        "id": "15qpVZHjMdgi"
      },
      "execution_count": 6,
      "outputs": []
    },
    {
      "cell_type": "markdown",
      "source": [
        "5. Construcción del modelo"
      ],
      "metadata": {
        "id": "4oNRxQ2nMsC1"
      }
    },
    {
      "cell_type": "code",
      "source": [
        "#Construcción del modelo\n",
        "modelo = keras.Sequential([\n",
        "    keras.layers.Input(shape=(28, 28)),\n",
        "    keras.layers.Flatten(),\n",
        "    keras.layers.Dense(128, activation=\"relu\"),\n",
        "    keras.layers.Dense(10, activation=\"softmax\")\n",
        "])"
      ],
      "metadata": {
        "id": "sQLnE0zQMxIp"
      },
      "execution_count": 7,
      "outputs": []
    },
    {
      "cell_type": "markdown",
      "source": [
        "6. Compilación del modelo"
      ],
      "metadata": {
        "id": "pgJSuRouM-DF"
      }
    },
    {
      "cell_type": "code",
      "source": [
        "#Configuramos el entrenamiento\n",
        "modelo.compile(\n",
        "    optimizer=\"adam\",\n",
        "    loss=\"sparse_categorical_crossentropy\",\n",
        "    metrics=[\"accuracy\"]\n",
        ")"
      ],
      "metadata": {
        "id": "qGuwpUIMNA72"
      },
      "execution_count": 8,
      "outputs": []
    },
    {
      "cell_type": "markdown",
      "source": [
        "7. Entrenar al modelo"
      ],
      "metadata": {
        "id": "2jC4dS0CNLrn"
      }
    },
    {
      "cell_type": "code",
      "source": [
        "#Entrenamiento del modelo\n",
        "historial = modelo.fit(\n",
        "    x_train, y_train,\n",
        "    epochs=10,\n",
        "    validation_split=0.1,\n",
        "    verbose=1\n",
        ")"
      ],
      "metadata": {
        "colab": {
          "base_uri": "https://localhost:8080/"
        },
        "id": "BVFxW5KFNNSW",
        "outputId": "fe6ec960-88f9-4f43-de46-62690c4e579e"
      },
      "execution_count": 9,
      "outputs": [
        {
          "output_type": "stream",
          "name": "stdout",
          "text": [
            "Epoch 1/10\n",
            "\u001b[1m1688/1688\u001b[0m \u001b[32m━━━━━━━━━━━━━━━━━━━━\u001b[0m\u001b[37m\u001b[0m \u001b[1m4s\u001b[0m 2ms/step - accuracy: 0.8668 - loss: 0.4657 - val_accuracy: 0.9638 - val_loss: 0.1310\n",
            "Epoch 2/10\n",
            "\u001b[1m1688/1688\u001b[0m \u001b[32m━━━━━━━━━━━━━━━━━━━━\u001b[0m\u001b[37m\u001b[0m \u001b[1m4s\u001b[0m 2ms/step - accuracy: 0.9618 - loss: 0.1339 - val_accuracy: 0.9730 - val_loss: 0.0991\n",
            "Epoch 3/10\n",
            "\u001b[1m1688/1688\u001b[0m \u001b[32m━━━━━━━━━━━━━━━━━━━━\u001b[0m\u001b[37m\u001b[0m \u001b[1m4s\u001b[0m 2ms/step - accuracy: 0.9747 - loss: 0.0844 - val_accuracy: 0.9753 - val_loss: 0.0869\n",
            "Epoch 4/10\n",
            "\u001b[1m1688/1688\u001b[0m \u001b[32m━━━━━━━━━━━━━━━━━━━━\u001b[0m\u001b[37m\u001b[0m \u001b[1m4s\u001b[0m 2ms/step - accuracy: 0.9811 - loss: 0.0629 - val_accuracy: 0.9752 - val_loss: 0.0844\n",
            "Epoch 5/10\n",
            "\u001b[1m1688/1688\u001b[0m \u001b[32m━━━━━━━━━━━━━━━━━━━━\u001b[0m\u001b[37m\u001b[0m \u001b[1m4s\u001b[0m 2ms/step - accuracy: 0.9867 - loss: 0.0453 - val_accuracy: 0.9745 - val_loss: 0.0898\n",
            "Epoch 6/10\n",
            "\u001b[1m1688/1688\u001b[0m \u001b[32m━━━━━━━━━━━━━━━━━━━━\u001b[0m\u001b[37m\u001b[0m \u001b[1m4s\u001b[0m 2ms/step - accuracy: 0.9892 - loss: 0.0370 - val_accuracy: 0.9803 - val_loss: 0.0714\n",
            "Epoch 7/10\n",
            "\u001b[1m1688/1688\u001b[0m \u001b[32m━━━━━━━━━━━━━━━━━━━━\u001b[0m\u001b[37m\u001b[0m \u001b[1m4s\u001b[0m 2ms/step - accuracy: 0.9922 - loss: 0.0285 - val_accuracy: 0.9788 - val_loss: 0.0744\n",
            "Epoch 8/10\n",
            "\u001b[1m1688/1688\u001b[0m \u001b[32m━━━━━━━━━━━━━━━━━━━━\u001b[0m\u001b[37m\u001b[0m \u001b[1m4s\u001b[0m 2ms/step - accuracy: 0.9930 - loss: 0.0238 - val_accuracy: 0.9805 - val_loss: 0.0778\n",
            "Epoch 9/10\n",
            "\u001b[1m1688/1688\u001b[0m \u001b[32m━━━━━━━━━━━━━━━━━━━━\u001b[0m\u001b[37m\u001b[0m \u001b[1m4s\u001b[0m 2ms/step - accuracy: 0.9949 - loss: 0.0175 - val_accuracy: 0.9803 - val_loss: 0.0767\n",
            "Epoch 10/10\n",
            "\u001b[1m1688/1688\u001b[0m \u001b[32m━━━━━━━━━━━━━━━━━━━━\u001b[0m\u001b[37m\u001b[0m \u001b[1m4s\u001b[0m 2ms/step - accuracy: 0.9956 - loss: 0.0156 - val_accuracy: 0.9800 - val_loss: 0.0762\n"
          ]
        }
      ]
    },
    {
      "cell_type": "markdown",
      "source": [
        "8. Evaluar exactitud"
      ],
      "metadata": {
        "id": "Y2fial7mNxf_"
      }
    },
    {
      "cell_type": "code",
      "source": [
        "#Evaluamos al modelo\n",
        "loss, acc = modelo.evaluate(x_test, y_test, verbose=0)\n",
        "print(f\"\\nPrecisión final en el conjunto de prueba: {acc * 100:.2f}%\")"
      ],
      "metadata": {
        "colab": {
          "base_uri": "https://localhost:8080/"
        },
        "id": "QH33TPlaN1IA",
        "outputId": "8b508053-d6af-428e-dde2-f85bd1b6113a"
      },
      "execution_count": 10,
      "outputs": [
        {
          "output_type": "stream",
          "name": "stdout",
          "text": [
            "\n",
            "Precisión final en el conjunto de prueba: 98.08%\n"
          ]
        }
      ]
    },
    {
      "cell_type": "markdown",
      "source": [
        "9. Hacemos predicciones"
      ],
      "metadata": {
        "id": "rq0PKs0bOCn3"
      }
    },
    {
      "cell_type": "code",
      "source": [
        "#Predicciones del modelo\n",
        "predicciones = modelo.predict(x_test)"
      ],
      "metadata": {
        "colab": {
          "base_uri": "https://localhost:8080/"
        },
        "id": "gQ-WJv6sOFIe",
        "outputId": "4fcce145-8ba3-44fd-d170-76cc2c720440"
      },
      "execution_count": 11,
      "outputs": [
        {
          "output_type": "stream",
          "name": "stdout",
          "text": [
            "\u001b[1m313/313\u001b[0m \u001b[32m━━━━━━━━━━━━━━━━━━━━\u001b[0m\u001b[37m\u001b[0m \u001b[1m0s\u001b[0m 909us/step\n"
          ]
        }
      ]
    },
    {
      "cell_type": "markdown",
      "source": [
        "10. Predicciones"
      ],
      "metadata": {
        "id": "18zheCzRONKT"
      }
    },
    {
      "cell_type": "code",
      "source": [
        "#Observación de algunas predicciones\n",
        "plt.figure(figsize=(10, 5))\n",
        "for i in range(5):\n",
        "    plt.subplot(1, 5, i + 1)\n",
        "    plt.imshow(x_test[i], cmap=\"gray\")\n",
        "    plt.axis(\"off\")\n",
        "\n",
        "    pred = np.argmax(predicciones[i])\n",
        "    real = y_test[i]\n",
        "\n",
        "    color = \"green\" if pred == real else \"red\"\n",
        "    plt.title(f\"Pred: {pred}\\nReal: {real}\", color=color, fontsize=10)\n",
        "\n",
        "plt.tight_layout()\n",
        "plt.show()"
      ],
      "metadata": {
        "colab": {
          "base_uri": "https://localhost:8080/",
          "height": 254
        },
        "id": "krFuLcvUOOhu",
        "outputId": "2c84beac-5c2d-4759-d5e2-4f62143154b8"
      },
      "execution_count": 12,
      "outputs": [
        {
          "output_type": "display_data",
          "data": {
            "text/plain": [
              "<Figure size 1000x500 with 5 Axes>"
            ],
            "image/png": "[encoded data removed]"
          },
          "metadata": {}
        }
      ]
    }
  ]
}